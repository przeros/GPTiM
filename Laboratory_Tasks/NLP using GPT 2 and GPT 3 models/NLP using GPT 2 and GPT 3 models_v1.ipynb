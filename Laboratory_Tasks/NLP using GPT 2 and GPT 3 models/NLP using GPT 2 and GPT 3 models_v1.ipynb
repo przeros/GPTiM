{
  "cells": [
    {
      "cell_type": "markdown",
      "metadata": {
        "id": "-hF5mw9VwwwB"
      },
      "source": [
        "##### AI TECH - Akademia Innowacyjnych Zastosowań Technologii Cyfrowych. Programu Operacyjnego Polska Cyfrowa na lata 2014-2020\n",
        "<hr>"
      ]
    },
    {
      "cell_type": "markdown",
      "metadata": {
        "id": "TThfg_eTwwwC"
      },
      "source": [
        "<br>\n",
        "<br>\n",
        "<br>\n",
        "<br>\n",
        "<br>\n",
        "<br>\n",
        "<br>\n",
        "<center>\n",
        "    <h1 style = \"font-size:48px; font-weight:normal\"><b>AI</b>-TECH</style></h1>\n",
        "    <br>\n",
        "<br>\n",
        "<br>\n",
        "<br>\n",
        "    <h1 style = \"font-size:24px; font-weight:normal\">LABORATORIUM 4</style></h1>\n",
        "    <h1 style = \"font-size:24px\">z Głębokiego przetwarzanie tekstu i mowy</style></h1>\n",
        "    <h1 style = \"font-size:24px\">NLP z wykorzystaniem sieci GPT\n",
        "2 lub GPT 3 , cz . 1</style></h1>\n",
        "    <h1 style = \"font-size:24px\">Przemysław Rośleń</style></h1>\n",
        "    <h3 style =\n",
        "</center>\n",
        "<br>\n",
        "<br>\n",
        "<br>\n",
        "<br>\n",
        "<br>\n",
        "<br>\n",
        "<br>\n",
        "<br>\n",
        "<br>\n",
        "    </body>\n",
        "    </html>"
      ]
    },
    {
      "cell_type": "markdown",
      "metadata": {
        "id": "TnXIz0htwwwD"
      },
      "source": [
        "<center>\n",
        "Projekt współfinansowany ze środków Unii Europejskiej w ramach Europejskiego Funduszu Rozwoju Regionalnego\n",
        "Program Operacyjny Polska Cyfrowa na lata 2014-2020,\n",
        "Oś Priorytetowa nr 3 \"Cyfrowe kompetencje społeczeństwa\" Działanie  nr 3.2 \"Innowacyjne rozwiązania na rzecz aktywizacji cyfrowej\"\n",
        "Tytuł projektu:  „Akademia Innowacyjnych Zastosowań Technologii Cyfrowych (AI Tech)”\n",
        "    </center>"
      ]
    },
    {
      "cell_type": "markdown",
      "metadata": {
        "id": "MUudoY1gwwwD"
      },
      "source": [
        "<hr>"
      ]
    },
    {
      "cell_type": "markdown",
      "metadata": {
        "id": "3a3Kq6E0wwwD"
      },
      "source": [
        "# Trening sieci GPT-2 w TensorFlow 2.0\n"
      ]
    },
    {
      "cell_type": "markdown",
      "metadata": {
        "id": "avIRm1anwwwE"
      },
      "source": [
        "Niniejszy zawiera procedury do treningu sieci GPT-2 w bibliotece TensorFlow 2.0"
      ]
    },
    {
      "cell_type": "code",
      "execution_count": null,
      "metadata": {
        "id": "TOf_VojQwwwE"
      },
      "outputs": [],
      "source": [
        "# Instalacja biblioteki transformers - domyślnie niestety maszyny Colaba nie posiadają jej zainstalowanej:\n",
        "\n",
        "!pip install transformers"
      ]
    },
    {
      "cell_type": "code",
      "execution_count": null,
      "metadata": {
        "id": "LDBXZxQSwwwF"
      },
      "outputs": [],
      "source": [
        "# Import bibliotek\n",
        "from transformers import GPT2Tokenizer, TFGPT2LMHeadModel\n",
        "from transformers import pipeline, set_seed\n",
        "import numpy as np\n",
        "import os\n",
        "import tensorflow as tf\n",
        "\n",
        "# Przydatne źródła:\n",
        "# https://data-dive.com/finetune-german-gpt2-on-tpu-transformers-tensorflow-for-text-generation-of-reviews\n",
        "# https://github.com/huggingface/transformers/issues/2439"
      ]
    },
    {
      "cell_type": "markdown",
      "metadata": {
        "id": "dH1GJ4i8wwwF"
      },
      "source": [
        "# Definicja modeli:"
      ]
    },
    {
      "cell_type": "markdown",
      "metadata": {
        "id": "mX4h2esOwwwG"
      },
      "source": [
        "W razie, gdy modelu nie ma na maszynie - zostanie on pobrany z serwerów firmy utrzymującej bibliotekę transformers."
      ]
    },
    {
      "cell_type": "code",
      "execution_count": null,
      "metadata": {
        "id": "6tXmT57DwwwG",
        "scrolled": true
      },
      "outputs": [],
      "source": [
        "# Do wyboru są różne rozmiary modelu GPT-2:\n",
        "# \"gpt2\"\n",
        "# \"gpt2-medium\"\n",
        "# \"gpt2-large\"\n",
        "# \"gpt2-xl\"\n",
        "# \"distilgpt2\" - wersja kompaktowa uzyskana w wyniku procesu tzw. destylacji wiedzy\n",
        "\n",
        "model     = TFGPT2LMHeadModel.from_pretrained(\"gpt2\")\n",
        "tokenizer = GPT2Tokenizer.from_pretrained(\"gpt2\")"
      ]
    },
    {
      "cell_type": "markdown",
      "metadata": {
        "id": "iye6Sa-bwwwH"
      },
      "source": [
        "# Pobranie danych treningowych"
      ]
    },
    {
      "cell_type": "code",
      "execution_count": null,
      "metadata": {
        "id": "UkeXvnp9wwwH"
      },
      "outputs": [],
      "source": [
        "# Odczyt danych treningowych z pliku. Należy utworzyć go przed treningiem dobierając\n",
        "# jako jego treść teksty o pożądanym charakterze.\n",
        "file_path = 'text.txt'\n",
        "with open(file_path, encoding=\"utf-8\") as f:\n",
        "    text = f.read()\n",
        "\n",
        "# Tokenizacja odczytanych danych:\n",
        "tokenized_text = tokenizer.encode(text)\n",
        "\n",
        "# Przygotowanie zbioru treningowego (setting modelowania języka - ang. language modeling)\n",
        "examples   = []\n",
        "block_size = 100\n",
        "for i in range(0, len(tokenized_text) - block_size + 1, block_size):\n",
        "    examples.append(tokenized_text[i:i + block_size])\n",
        "\n",
        "inputs = []\n",
        "labels = []\n",
        "for example in examples:\n",
        "    inputs.append(example[:-1])\n",
        "    labels.append(example[1:])\n",
        "\n",
        "dataset = tf.data.Dataset.from_tensor_slices((inputs, labels))\n",
        "\n",
        "# Tutaj zaczyna się przygotowanie samego procesu treningu:\n",
        "BATCH_SIZE  = 12\n",
        "BUFFER_SIZE = 1000\n",
        "\n",
        "dataset = dataset.shuffle(BUFFER_SIZE).batch(BATCH_SIZE, drop_remainder=True)"
      ]
    },
    {
      "cell_type": "markdown",
      "metadata": {
        "id": "6rCj8Lqf8SZy"
      },
      "source": [
        "# Trening sieci"
      ]
    },
    {
      "cell_type": "code",
      "execution_count": null,
      "metadata": {
        "id": "flArrWb58Nxa"
      },
      "outputs": [],
      "source": [
        "# Przygotowanie pomocniczych obiektów i kompilacja modelu.\n",
        "optimizer = tf.keras.optimizers.Adam(learning_rate=3e-5, epsilon=1e-08, clipnorm=1.0)\n",
        "loss      = tf.keras.losses.SparseCategoricalCrossentropy(from_logits=True)\n",
        "metric    = tf.keras.metrics.SparseCategoricalAccuracy('accuracy')\n",
        "model.compile(optimizer=optimizer, loss=[loss, *[None] * model.config.n_layer], metrics=[metric])\n",
        "\n",
        "print()\n",
        "print(\"Przykład tekstu wygenerowanego przez sieć przed treningiem:\")\n",
        "generator = pipeline('text-generation', model=model, tokenizer=tokenizer)\n",
        "generated_output = generator(\"\", max_length=100, num_return_sequences=1)\n",
        "print(generated_output[0]['generated_text'])\n",
        "print()\n",
        "\n",
        "# Trening w nieskończonej pętli - z podglądem wyjścia sieci po każdej epoce\n",
        "# treningu.\n",
        "epoch_number = 1\n",
        "while True:\n",
        "    print(f\"numer epoki: {epoch_number}\")\n",
        "    model.fit(dataset, epochs=1)\n",
        "    generator = pipeline('text-generation', model=model, tokenizer=tokenizer)\n",
        "    generated_output = generator(\"\", max_length=100, num_return_sequences=1)\n",
        "    print(generated_output[0]['generated_text'])\n",
        "    print()\n",
        "    epoch_number += 1\n"
      ]
    }
  ],
  "metadata": {
    "accelerator": "GPU",
    "colab": {
      "provenance": []
    },
    "kernelspec": {
      "display_name": "Python 3 (ipykernel)",
      "language": "python",
      "name": "python3"
    },
    "language_info": {
      "codemirror_mode": {
        "name": "ipython",
        "version": 3
      },
      "file_extension": ".py",
      "mimetype": "text/x-python",
      "name": "python",
      "nbconvert_exporter": "python",
      "pygments_lexer": "ipython3",
      "version": "3.8.9"
    }
  },
  "nbformat": 4,
  "nbformat_minor": 0
}